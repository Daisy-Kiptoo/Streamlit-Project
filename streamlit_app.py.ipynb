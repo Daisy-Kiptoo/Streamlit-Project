{
 "cells": [
  {
   "cell_type": "code",
   "execution_count": 1,
   "id": "26038625",
   "metadata": {},
   "outputs": [
    {
     "name": "stderr",
     "output_type": "stream",
     "text": [
      "2023-04-02 01:00:04.154 \n",
      "  \u001b[33m\u001b[1mWarning:\u001b[0m to view this Streamlit app on a browser, run it with the following\n",
      "  command:\n",
      "\n",
      "    streamlit run D:\\Program Files\\anaconda3\\envs\\tensorflow\\lib\\site-packages\\ipykernel_launcher.py [ARGUMENTS]\n"
     ]
    }
   ],
   "source": [
    "import streamlit as st\n",
    "\n",
    "# Set page title\n",
    "st.set_page_config(page_title='My Shopping List App')\n",
    "\n",
    "# Define app layout\n",
    "st.title('My Shopping List App')\n",
    "st.write('Welcome to my shopping list! Here are the items I need to buy today:')\n",
    "\n",
    "# Define shopping list\n",
    "shopping_list = ['apples', 'bananas', 'bread', 'eggs', 'milk']\n",
    "\n",
    "# Display shopping list\n",
    "for item in shopping_list:\n",
    "    st.write(f'- {item}')\n",
    "\n",
    "# Add new item to shopping list\n",
    "new_item = st.text_input('Add a new item to the list:')\n",
    "if new_item:\n",
    "    shopping_list.append(new_item)\n",
    "    st.write(f'Added \"{new_item}\" to the list!')\n",
    "\n",
    "# Remove item from shopping list\n",
    "remove_item = st.text_input('Remove an item from the list:')\n",
    "if remove_item:\n",
    "    if remove_item in shopping_list:\n",
    "        shopping_list.remove(remove_item)\n",
    "        st.write(f'Removed \"{remove_item}\" from the list!')\n",
    "    else:\n",
    "        st.write(f'\"{remove_item}\" is not in the list.')\n",
    "\n",
    "# Display final shopping list\n",
    "st.write('Here is your final shopping list:')\n",
    "for item in shopping_list:\n",
    "    st.write(f'- {item}')"
   ]
  },
  {
   "cell_type": "code",
   "execution_count": null,
   "id": "629e2537",
   "metadata": {},
   "outputs": [],
   "source": []
  }
 ],
 "metadata": {
  "kernelspec": {
   "display_name": "Python 3",
   "language": "python",
   "name": "python3"
  },
  "language_info": {
   "codemirror_mode": {
    "name": "ipython",
    "version": 3
   },
   "file_extension": ".py",
   "mimetype": "text/x-python",
   "name": "python",
   "nbconvert_exporter": "python",
   "pygments_lexer": "ipython3",
   "version": "3.8.10"
  }
 },
 "nbformat": 4,
 "nbformat_minor": 5
}
